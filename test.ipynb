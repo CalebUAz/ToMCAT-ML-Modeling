{
 "cells": [
  {
   "cell_type": "code",
   "execution_count": 14,
   "metadata": {},
   "outputs": [],
   "source": [
    "import pandas as pd\n",
    "import csv\n",
    "from detect_delimiter import detect"
   ]
  },
  {
   "cell_type": "code",
   "execution_count": 35,
   "metadata": {},
   "outputs": [
    {
     "name": "stderr",
     "output_type": "stream",
     "text": [
      "Stream 4: Calculated effective sampling rate 0.0000 Hz is different from specified rate 100.0000 Hz.\n",
      "Stream 6: Calculated effective sampling rate 0.0000 Hz is different from specified rate 100.0000 Hz.\n",
      "Stream 11: Calculated effective sampling rate 0.0000 Hz is different from specified rate 100.0000 Hz.\n",
      "Stream 14: Calculated effective sampling rate -0.0038 Hz is different from specified rate 10.0000 Hz.\n",
      "Stream 13: Calculated effective sampling rate 8.7866 Hz is different from specified rate 10.0000 Hz.\n",
      "Stream 15: Calculated effective sampling rate 8.8885 Hz is different from specified rate 10.0000 Hz.\n",
      "Stream 16: Calculated effective sampling rate -0.0009 Hz is different from specified rate 5.0000 Hz.\n",
      "Stream 17: Calculated effective sampling rate 4.3981 Hz is different from specified rate 5.0000 Hz.\n",
      "Stream 18: Calculated effective sampling rate 4.4384 Hz is different from specified rate 5.0000 Hz.\n"
     ]
    }
   ],
   "source": [
    "import pyxdf\n",
    "\n",
    "data_xdf, header = pyxdf.load_xdf('/Users/calebjonesshibu/Desktop/tom/data/exp_2023_04_28_10/block_1.xdf')\n",
    "\n",
    "# Create a list of channel names\n",
    "EEG_channels = []\n",
    "for stream in data_xdf:\n",
    "    if stream['info']['type'][0] == 'EEG':\n",
    "        for channel_dict in stream['info']['desc'][0]['channels'][0]['channel']:\n",
    "            EEG_channels.append(channel_dict['label'][0])\n",
    "        break"
   ]
  },
  {
   "cell_type": "code",
   "execution_count": 44,
   "metadata": {},
   "outputs": [
    {
     "name": "stdout",
     "output_type": "stream",
     "text": [
      "Gaze\n",
      "EEG\n",
      "Accelerometer\n",
      "NIRS\n",
      "Accelerometer\n",
      "NIRS\n",
      "NIRS\n",
      "EEG\n",
      "EEG\n",
      "Gaze\n",
      "Gaze\n",
      "Accelerometer\n",
      "image_filename\n",
      "image_filename\n",
      "image_filename\n",
      "image_filename\n",
      "image_filename\n",
      "image_filename\n",
      "rest_state\n",
      "finger_tapping\n",
      "affective_task\n",
      "affective_task\n",
      "affective_task\n",
      "affective_task\n",
      "ping_pong\n",
      "ping_pong\n",
      "ping_pong\n"
     ]
    }
   ],
   "source": [
    "for stream in data_xdf:\n",
    "    print(stream['info']['type'][0])\n"
   ]
  },
  {
   "cell_type": "code",
   "execution_count": 47,
   "metadata": {},
   "outputs": [
    {
     "data": {
      "text/plain": [
       "defaultdict(list,\n",
       "            {'name': ['leopard_0171_accelerometer'],\n",
       "             'type': ['Accelerometer'],\n",
       "             'channel_count': ['12'],\n",
       "             'channel_format': ['float32'],\n",
       "             'source_id': ['Aurora_data_2010_0171_A'],\n",
       "             'nominal_srate': ['100.0000000000000'],\n",
       "             'version': ['1.100000000000000'],\n",
       "             'created_at': ['158821.1658475000'],\n",
       "             'uid': ['4c2fdb34-dfef-45fa-8fa8-bc6ef93dafc5'],\n",
       "             'session_id': ['default'],\n",
       "             'hostname': ['DESKTOP-MVIO89Q'],\n",
       "             'v4address': [None],\n",
       "             'v4data_port': ['16577'],\n",
       "             'v4service_port': ['16577'],\n",
       "             'v6address': [None],\n",
       "             'v6data_port': ['16577'],\n",
       "             'v6service_port': ['16577'],\n",
       "             'desc': [defaultdict(list,\n",
       "                          {'hardware': [defaultdict(list,\n",
       "                                        {'device': ['NIRSport2'],\n",
       "                                         'serial_number': ['2010_0171_A']})],\n",
       "                           'channels': [defaultdict(list,\n",
       "                                        {'channel': [defaultdict(list,\n",
       "                                                      {'label': ['device_id']}),\n",
       "                                          defaultdict(list,\n",
       "                                                      {'label': ['accelerometer_id']}),\n",
       "                                          defaultdict(list,\n",
       "                                                      {'label': ['accelerometer_x'],\n",
       "                                                       'unit': ['m/s^2']}),\n",
       "                                          defaultdict(list,\n",
       "                                                      {'label': ['accelerometer_y'],\n",
       "                                                       'unit': ['m/s^2']}),\n",
       "                                          defaultdict(list,\n",
       "                                                      {'label': ['accelerometer_z'],\n",
       "                                                       'unit': ['m/s^2']}),\n",
       "                                          defaultdict(list,\n",
       "                                                      {'label': ['gyroscope_x'],\n",
       "                                                       'unit': ['deg/s']}),\n",
       "                                          defaultdict(list,\n",
       "                                                      {'label': ['gyroscope_y'],\n",
       "                                                       'unit': ['deg/s']}),\n",
       "                                          defaultdict(list,\n",
       "                                                      {'label': ['gyroscope_z'],\n",
       "                                                       'unit': ['deg/s']}),\n",
       "                                          defaultdict(list,\n",
       "                                                      {'label': ['magnetometer_x'],\n",
       "                                                       'unit': ['µT']}),\n",
       "                                          defaultdict(list,\n",
       "                                                      {'label': ['magnetometer_y'],\n",
       "                                                       'unit': ['µT']}),\n",
       "                                          defaultdict(list,\n",
       "                                                      {'label': ['magnetometer_z'],\n",
       "                                                       'unit': ['µT']}),\n",
       "                                          defaultdict(list,\n",
       "                                                      {'label': ['hall_resistance']})]})]})],\n",
       "             'stream_id': 6,\n",
       "             'effective_srate': 0})"
      ]
     },
     "execution_count": 47,
     "metadata": {},
     "output_type": "execute_result"
    }
   ],
   "source": [
    "data_xdf[4]['info']"
   ]
  },
  {
   "cell_type": "code",
   "execution_count": null,
   "metadata": {},
   "outputs": [],
   "source": []
  }
 ],
 "metadata": {
  "kernelspec": {
   "display_name": "Python 3",
   "language": "python",
   "name": "python3"
  },
  "language_info": {
   "codemirror_mode": {
    "name": "ipython",
    "version": 3
   },
   "file_extension": ".py",
   "mimetype": "text/x-python",
   "name": "python",
   "nbconvert_exporter": "python",
   "pygments_lexer": "ipython3",
   "version": "3.11.3"
  },
  "orig_nbformat": 4
 },
 "nbformat": 4,
 "nbformat_minor": 2
}
